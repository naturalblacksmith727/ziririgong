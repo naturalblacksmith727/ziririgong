{
 "cells": [
  {
   "cell_type": "code",
   "execution_count": 1,
   "id": "cf8fdf43",
   "metadata": {},
   "outputs": [],
   "source": [
    "import pandas as pd\n",
    "import numpy as np\n",
    "import folium\n",
    "from shapely.geometry import Point, LineString\n",
    "from shapely.affinity import scale\n",
    "import branca.colormap as cm"
   ]
  },
  {
   "cell_type": "code",
   "execution_count": 2,
   "id": "6c39bd27",
   "metadata": {},
   "outputs": [
    {
     "ename": "FileNotFoundError",
     "evalue": "[Errno 2] No such file or directory: 'C:\\\\Users\\\\charl\\\\OneDrive\\\\Desktop\\\\기타\\\\coding\\\\coding_on_study\\\\ziririgon\\\\First_project\\\\db\\\\최종사용 데이터\\\\jeju_with_coords_kakao.csv'",
     "output_type": "error",
     "traceback": [
      "\u001b[31m---------------------------------------------------------------------------\u001b[39m",
      "\u001b[31mFileNotFoundError\u001b[39m                         Traceback (most recent call last)",
      "\u001b[36mCell\u001b[39m\u001b[36m \u001b[39m\u001b[32mIn[2]\u001b[39m\u001b[32m, line 2\u001b[39m\n\u001b[32m      1\u001b[39m \u001b[38;5;66;03m# 1. 데이터 로딩\u001b[39;00m\n\u001b[32m----> \u001b[39m\u001b[32m2\u001b[39m df_all = \u001b[43mpd\u001b[49m\u001b[43m.\u001b[49m\u001b[43mread_csv\u001b[49m\u001b[43m(\u001b[49m\u001b[33;43m'\u001b[39;49m\u001b[33;43mC:\u001b[39;49m\u001b[38;5;130;43;01m\\\\\u001b[39;49;00m\u001b[33;43mUsers\u001b[39;49m\u001b[38;5;130;43;01m\\\\\u001b[39;49;00m\u001b[33;43mcharl\u001b[39;49m\u001b[38;5;130;43;01m\\\\\u001b[39;49;00m\u001b[33;43mOneDrive\u001b[39;49m\u001b[38;5;130;43;01m\\\\\u001b[39;49;00m\u001b[33;43mDesktop\u001b[39;49m\u001b[38;5;130;43;01m\\\\\u001b[39;49;00m\u001b[33;43m기타\u001b[39;49m\u001b[38;5;130;43;01m\\\\\u001b[39;49;00m\u001b[33;43mcoding\u001b[39;49m\u001b[38;5;130;43;01m\\\\\u001b[39;49;00m\u001b[33;43mcoding_on_study\u001b[39;49m\u001b[38;5;130;43;01m\\\\\u001b[39;49;00m\u001b[33;43mziririgon\u001b[39;49m\u001b[38;5;130;43;01m\\\\\u001b[39;49;00m\u001b[33;43mFirst_project\u001b[39;49m\u001b[38;5;130;43;01m\\\\\u001b[39;49;00m\u001b[33;43mdb\u001b[39;49m\u001b[38;5;130;43;01m\\\\\u001b[39;49;00m\u001b[33;43m최종사용 데이터\u001b[39;49m\u001b[38;5;130;43;01m\\\\\u001b[39;49;00m\u001b[33;43mjeju_with_coords_kakao.csv\u001b[39;49m\u001b[33;43m'\u001b[39;49m\u001b[43m)\u001b[49m.dropna(\n\u001b[32m      3\u001b[39m     subset=[\u001b[33m'\u001b[39m\u001b[33m출발_lat\u001b[39m\u001b[33m'\u001b[39m, \u001b[33m'\u001b[39m\u001b[33m출발_lon\u001b[39m\u001b[33m'\u001b[39m, \u001b[33m'\u001b[39m\u001b[33m도착_lat\u001b[39m\u001b[33m'\u001b[39m, \u001b[33m'\u001b[39m\u001b[33m도착_lon\u001b[39m\u001b[33m'\u001b[39m])\n",
      "\u001b[36mFile \u001b[39m\u001b[32m~\\AppData\\Roaming\\Python\\Python313\\site-packages\\pandas\\io\\parsers\\readers.py:1026\u001b[39m, in \u001b[36mread_csv\u001b[39m\u001b[34m(filepath_or_buffer, sep, delimiter, header, names, index_col, usecols, dtype, engine, converters, true_values, false_values, skipinitialspace, skiprows, skipfooter, nrows, na_values, keep_default_na, na_filter, verbose, skip_blank_lines, parse_dates, infer_datetime_format, keep_date_col, date_parser, date_format, dayfirst, cache_dates, iterator, chunksize, compression, thousands, decimal, lineterminator, quotechar, quoting, doublequote, escapechar, comment, encoding, encoding_errors, dialect, on_bad_lines, delim_whitespace, low_memory, memory_map, float_precision, storage_options, dtype_backend)\u001b[39m\n\u001b[32m   1013\u001b[39m kwds_defaults = _refine_defaults_read(\n\u001b[32m   1014\u001b[39m     dialect,\n\u001b[32m   1015\u001b[39m     delimiter,\n\u001b[32m   (...)\u001b[39m\u001b[32m   1022\u001b[39m     dtype_backend=dtype_backend,\n\u001b[32m   1023\u001b[39m )\n\u001b[32m   1024\u001b[39m kwds.update(kwds_defaults)\n\u001b[32m-> \u001b[39m\u001b[32m1026\u001b[39m \u001b[38;5;28;01mreturn\u001b[39;00m \u001b[43m_read\u001b[49m\u001b[43m(\u001b[49m\u001b[43mfilepath_or_buffer\u001b[49m\u001b[43m,\u001b[49m\u001b[43m \u001b[49m\u001b[43mkwds\u001b[49m\u001b[43m)\u001b[49m\n",
      "\u001b[36mFile \u001b[39m\u001b[32m~\\AppData\\Roaming\\Python\\Python313\\site-packages\\pandas\\io\\parsers\\readers.py:620\u001b[39m, in \u001b[36m_read\u001b[39m\u001b[34m(filepath_or_buffer, kwds)\u001b[39m\n\u001b[32m    617\u001b[39m _validate_names(kwds.get(\u001b[33m\"\u001b[39m\u001b[33mnames\u001b[39m\u001b[33m\"\u001b[39m, \u001b[38;5;28;01mNone\u001b[39;00m))\n\u001b[32m    619\u001b[39m \u001b[38;5;66;03m# Create the parser.\u001b[39;00m\n\u001b[32m--> \u001b[39m\u001b[32m620\u001b[39m parser = \u001b[43mTextFileReader\u001b[49m\u001b[43m(\u001b[49m\u001b[43mfilepath_or_buffer\u001b[49m\u001b[43m,\u001b[49m\u001b[43m \u001b[49m\u001b[43m*\u001b[49m\u001b[43m*\u001b[49m\u001b[43mkwds\u001b[49m\u001b[43m)\u001b[49m\n\u001b[32m    622\u001b[39m \u001b[38;5;28;01mif\u001b[39;00m chunksize \u001b[38;5;129;01mor\u001b[39;00m iterator:\n\u001b[32m    623\u001b[39m     \u001b[38;5;28;01mreturn\u001b[39;00m parser\n",
      "\u001b[36mFile \u001b[39m\u001b[32m~\\AppData\\Roaming\\Python\\Python313\\site-packages\\pandas\\io\\parsers\\readers.py:1620\u001b[39m, in \u001b[36mTextFileReader.__init__\u001b[39m\u001b[34m(self, f, engine, **kwds)\u001b[39m\n\u001b[32m   1617\u001b[39m     \u001b[38;5;28mself\u001b[39m.options[\u001b[33m\"\u001b[39m\u001b[33mhas_index_names\u001b[39m\u001b[33m\"\u001b[39m] = kwds[\u001b[33m\"\u001b[39m\u001b[33mhas_index_names\u001b[39m\u001b[33m\"\u001b[39m]\n\u001b[32m   1619\u001b[39m \u001b[38;5;28mself\u001b[39m.handles: IOHandles | \u001b[38;5;28;01mNone\u001b[39;00m = \u001b[38;5;28;01mNone\u001b[39;00m\n\u001b[32m-> \u001b[39m\u001b[32m1620\u001b[39m \u001b[38;5;28mself\u001b[39m._engine = \u001b[38;5;28;43mself\u001b[39;49m\u001b[43m.\u001b[49m\u001b[43m_make_engine\u001b[49m\u001b[43m(\u001b[49m\u001b[43mf\u001b[49m\u001b[43m,\u001b[49m\u001b[43m \u001b[49m\u001b[38;5;28;43mself\u001b[39;49m\u001b[43m.\u001b[49m\u001b[43mengine\u001b[49m\u001b[43m)\u001b[49m\n",
      "\u001b[36mFile \u001b[39m\u001b[32m~\\AppData\\Roaming\\Python\\Python313\\site-packages\\pandas\\io\\parsers\\readers.py:1880\u001b[39m, in \u001b[36mTextFileReader._make_engine\u001b[39m\u001b[34m(self, f, engine)\u001b[39m\n\u001b[32m   1878\u001b[39m     \u001b[38;5;28;01mif\u001b[39;00m \u001b[33m\"\u001b[39m\u001b[33mb\u001b[39m\u001b[33m\"\u001b[39m \u001b[38;5;129;01mnot\u001b[39;00m \u001b[38;5;129;01min\u001b[39;00m mode:\n\u001b[32m   1879\u001b[39m         mode += \u001b[33m\"\u001b[39m\u001b[33mb\u001b[39m\u001b[33m\"\u001b[39m\n\u001b[32m-> \u001b[39m\u001b[32m1880\u001b[39m \u001b[38;5;28mself\u001b[39m.handles = \u001b[43mget_handle\u001b[49m\u001b[43m(\u001b[49m\n\u001b[32m   1881\u001b[39m \u001b[43m    \u001b[49m\u001b[43mf\u001b[49m\u001b[43m,\u001b[49m\n\u001b[32m   1882\u001b[39m \u001b[43m    \u001b[49m\u001b[43mmode\u001b[49m\u001b[43m,\u001b[49m\n\u001b[32m   1883\u001b[39m \u001b[43m    \u001b[49m\u001b[43mencoding\u001b[49m\u001b[43m=\u001b[49m\u001b[38;5;28;43mself\u001b[39;49m\u001b[43m.\u001b[49m\u001b[43moptions\u001b[49m\u001b[43m.\u001b[49m\u001b[43mget\u001b[49m\u001b[43m(\u001b[49m\u001b[33;43m\"\u001b[39;49m\u001b[33;43mencoding\u001b[39;49m\u001b[33;43m\"\u001b[39;49m\u001b[43m,\u001b[49m\u001b[43m \u001b[49m\u001b[38;5;28;43;01mNone\u001b[39;49;00m\u001b[43m)\u001b[49m\u001b[43m,\u001b[49m\n\u001b[32m   1884\u001b[39m \u001b[43m    \u001b[49m\u001b[43mcompression\u001b[49m\u001b[43m=\u001b[49m\u001b[38;5;28;43mself\u001b[39;49m\u001b[43m.\u001b[49m\u001b[43moptions\u001b[49m\u001b[43m.\u001b[49m\u001b[43mget\u001b[49m\u001b[43m(\u001b[49m\u001b[33;43m\"\u001b[39;49m\u001b[33;43mcompression\u001b[39;49m\u001b[33;43m\"\u001b[39;49m\u001b[43m,\u001b[49m\u001b[43m \u001b[49m\u001b[38;5;28;43;01mNone\u001b[39;49;00m\u001b[43m)\u001b[49m\u001b[43m,\u001b[49m\n\u001b[32m   1885\u001b[39m \u001b[43m    \u001b[49m\u001b[43mmemory_map\u001b[49m\u001b[43m=\u001b[49m\u001b[38;5;28;43mself\u001b[39;49m\u001b[43m.\u001b[49m\u001b[43moptions\u001b[49m\u001b[43m.\u001b[49m\u001b[43mget\u001b[49m\u001b[43m(\u001b[49m\u001b[33;43m\"\u001b[39;49m\u001b[33;43mmemory_map\u001b[39;49m\u001b[33;43m\"\u001b[39;49m\u001b[43m,\u001b[49m\u001b[43m \u001b[49m\u001b[38;5;28;43;01mFalse\u001b[39;49;00m\u001b[43m)\u001b[49m\u001b[43m,\u001b[49m\n\u001b[32m   1886\u001b[39m \u001b[43m    \u001b[49m\u001b[43mis_text\u001b[49m\u001b[43m=\u001b[49m\u001b[43mis_text\u001b[49m\u001b[43m,\u001b[49m\n\u001b[32m   1887\u001b[39m \u001b[43m    \u001b[49m\u001b[43merrors\u001b[49m\u001b[43m=\u001b[49m\u001b[38;5;28;43mself\u001b[39;49m\u001b[43m.\u001b[49m\u001b[43moptions\u001b[49m\u001b[43m.\u001b[49m\u001b[43mget\u001b[49m\u001b[43m(\u001b[49m\u001b[33;43m\"\u001b[39;49m\u001b[33;43mencoding_errors\u001b[39;49m\u001b[33;43m\"\u001b[39;49m\u001b[43m,\u001b[49m\u001b[43m \u001b[49m\u001b[33;43m\"\u001b[39;49m\u001b[33;43mstrict\u001b[39;49m\u001b[33;43m\"\u001b[39;49m\u001b[43m)\u001b[49m\u001b[43m,\u001b[49m\n\u001b[32m   1888\u001b[39m \u001b[43m    \u001b[49m\u001b[43mstorage_options\u001b[49m\u001b[43m=\u001b[49m\u001b[38;5;28;43mself\u001b[39;49m\u001b[43m.\u001b[49m\u001b[43moptions\u001b[49m\u001b[43m.\u001b[49m\u001b[43mget\u001b[49m\u001b[43m(\u001b[49m\u001b[33;43m\"\u001b[39;49m\u001b[33;43mstorage_options\u001b[39;49m\u001b[33;43m\"\u001b[39;49m\u001b[43m,\u001b[49m\u001b[43m \u001b[49m\u001b[38;5;28;43;01mNone\u001b[39;49;00m\u001b[43m)\u001b[49m\u001b[43m,\u001b[49m\n\u001b[32m   1889\u001b[39m \u001b[43m\u001b[49m\u001b[43m)\u001b[49m\n\u001b[32m   1890\u001b[39m \u001b[38;5;28;01massert\u001b[39;00m \u001b[38;5;28mself\u001b[39m.handles \u001b[38;5;129;01mis\u001b[39;00m \u001b[38;5;129;01mnot\u001b[39;00m \u001b[38;5;28;01mNone\u001b[39;00m\n\u001b[32m   1891\u001b[39m f = \u001b[38;5;28mself\u001b[39m.handles.handle\n",
      "\u001b[36mFile \u001b[39m\u001b[32m~\\AppData\\Roaming\\Python\\Python313\\site-packages\\pandas\\io\\common.py:873\u001b[39m, in \u001b[36mget_handle\u001b[39m\u001b[34m(path_or_buf, mode, encoding, compression, memory_map, is_text, errors, storage_options)\u001b[39m\n\u001b[32m    868\u001b[39m \u001b[38;5;28;01melif\u001b[39;00m \u001b[38;5;28misinstance\u001b[39m(handle, \u001b[38;5;28mstr\u001b[39m):\n\u001b[32m    869\u001b[39m     \u001b[38;5;66;03m# Check whether the filename is to be opened in binary mode.\u001b[39;00m\n\u001b[32m    870\u001b[39m     \u001b[38;5;66;03m# Binary mode does not support 'encoding' and 'newline'.\u001b[39;00m\n\u001b[32m    871\u001b[39m     \u001b[38;5;28;01mif\u001b[39;00m ioargs.encoding \u001b[38;5;129;01mand\u001b[39;00m \u001b[33m\"\u001b[39m\u001b[33mb\u001b[39m\u001b[33m\"\u001b[39m \u001b[38;5;129;01mnot\u001b[39;00m \u001b[38;5;129;01min\u001b[39;00m ioargs.mode:\n\u001b[32m    872\u001b[39m         \u001b[38;5;66;03m# Encoding\u001b[39;00m\n\u001b[32m--> \u001b[39m\u001b[32m873\u001b[39m         handle = \u001b[38;5;28;43mopen\u001b[39;49m\u001b[43m(\u001b[49m\n\u001b[32m    874\u001b[39m \u001b[43m            \u001b[49m\u001b[43mhandle\u001b[49m\u001b[43m,\u001b[49m\n\u001b[32m    875\u001b[39m \u001b[43m            \u001b[49m\u001b[43mioargs\u001b[49m\u001b[43m.\u001b[49m\u001b[43mmode\u001b[49m\u001b[43m,\u001b[49m\n\u001b[32m    876\u001b[39m \u001b[43m            \u001b[49m\u001b[43mencoding\u001b[49m\u001b[43m=\u001b[49m\u001b[43mioargs\u001b[49m\u001b[43m.\u001b[49m\u001b[43mencoding\u001b[49m\u001b[43m,\u001b[49m\n\u001b[32m    877\u001b[39m \u001b[43m            \u001b[49m\u001b[43merrors\u001b[49m\u001b[43m=\u001b[49m\u001b[43merrors\u001b[49m\u001b[43m,\u001b[49m\n\u001b[32m    878\u001b[39m \u001b[43m            \u001b[49m\u001b[43mnewline\u001b[49m\u001b[43m=\u001b[49m\u001b[33;43m\"\u001b[39;49m\u001b[33;43m\"\u001b[39;49m\u001b[43m,\u001b[49m\n\u001b[32m    879\u001b[39m \u001b[43m        \u001b[49m\u001b[43m)\u001b[49m\n\u001b[32m    880\u001b[39m     \u001b[38;5;28;01melse\u001b[39;00m:\n\u001b[32m    881\u001b[39m         \u001b[38;5;66;03m# Binary mode\u001b[39;00m\n\u001b[32m    882\u001b[39m         handle = \u001b[38;5;28mopen\u001b[39m(handle, ioargs.mode)\n",
      "\u001b[31mFileNotFoundError\u001b[39m: [Errno 2] No such file or directory: 'C:\\\\Users\\\\charl\\\\OneDrive\\\\Desktop\\\\기타\\\\coding\\\\coding_on_study\\\\ziririgon\\\\First_project\\\\db\\\\최종사용 데이터\\\\jeju_with_coords_kakao.csv'"
     ]
    }
   ],
   "source": [
    "# 1. 데이터 로딩\n",
    "df_all = pd.read_csv('C:\\\\Users\\\\charl\\\\OneDrive\\\\Desktop\\\\기타\\\\coding\\\\coding_on_study\\\\ziririgon\\\\First_project\\\\db\\\\최종사용 데이터\\\\jeju_with_coords_kakao.csv').dropna(\n",
    "    subset=['출발_lat', '출발_lon', '도착_lat', '도착_lon'])"
   ]
  },
  {
   "cell_type": "code",
   "execution_count": null,
   "id": "f8523b9b",
   "metadata": {},
   "outputs": [],
   "source": [
    "# 2. 타원형 회피 경계 정의\n",
    "center = Point(126.55, 33.368)\n",
    "circle = center.buffer(0.0825, resolution=80)  # 약 9.15km\n",
    "ellipse = scale(circle, xfact=2.0, yfact=0.75, origin=center)"
   ]
  },
  {
   "cell_type": "code",
   "execution_count": null,
   "id": "c95a2dd9",
   "metadata": {},
   "outputs": [],
   "source": [
    "# 3. 보조 함수들\n",
    "\n",
    "def count_intersections(line, polygon):\n",
    "    inter = line.intersection(polygon)\n",
    "    if inter.is_empty:\n",
    "        return 0\n",
    "    if inter.geom_type == 'Point':\n",
    "        return 1\n",
    "    elif inter.geom_type == 'MultiPoint':\n",
    "        return len(inter.geoms)\n",
    "    elif inter.geom_type == 'LineString':\n",
    "        return 2\n",
    "    elif inter.geom_type == 'MultiLineString':\n",
    "        return sum(1 for g in inter.geoms if g.length > 0)\n",
    "    return 3\n",
    "\n",
    "\n",
    "def find_valid_random_midpoint(start, end, barrier, max_attempts=20, initial_buffer=0.005, step=0.003, samples=100):\n",
    "    for i in range(max_attempts):\n",
    "        dist = initial_buffer + i * step\n",
    "        buffer_ring = barrier.buffer(dist).exterior\n",
    "        candidate_pts = list(buffer_ring.coords)[::max(\n",
    "            1, len(buffer_ring.coords) // samples)]\n",
    "        for pt in candidate_pts:\n",
    "            mid = Point(pt)\n",
    "            l1, l2 = LineString([start, mid]), LineString([mid, end])\n",
    "            if count_intersections(l1, barrier) <= 1 and count_intersections(l2, barrier) <= 1:\n",
    "                return mid, dist\n",
    "    return None, None\n"
   ]
  },
  {
   "cell_type": "code",
   "execution_count": null,
   "id": "3f7e817a",
   "metadata": {},
   "outputs": [],
   "source": [
    "# 4. 경로 생성 + 100m 간격 점 추출\n",
    "records = []\n",
    "sampled_points = []\n",
    "route_lines = []\n",
    "\n",
    "for _, row in df_all.iterrows():\n",
    "    sp = Point(row['출발_lon'], row['출발_lat'])\n",
    "    ep = Point(row['도착_lon'], row['도착_lat'])\n",
    "    direct = LineString([sp, ep])\n",
    "\n",
    "    # 경로 회피 여부 판단\n",
    "    if not direct.intersects(ellipse):\n",
    "        route = direct\n",
    "        rerouted = False\n",
    "        mid = None\n",
    "    else:\n",
    "        mid, dist = find_valid_random_midpoint(sp, ep, ellipse)\n",
    "        if mid:\n",
    "            route = LineString([sp, mid, ep])\n",
    "            rerouted = True\n",
    "        else:\n",
    "            route = direct\n",
    "            rerouted = False\n",
    "\n",
    "    # 경로 저장\n",
    "    route_lines.append(route)\n",
    "    records.append({\n",
    "        '출발_lat': sp.y, '출발_lon': sp.x,\n",
    "        '도착_lat': ep.y, '도착_lon': ep.x,\n",
    "        '우회_lat': mid.y if mid else None,\n",
    "        '우회_lon': mid.x if mid else None,\n",
    "        '우회_성공': rerouted,\n",
    "    })\n",
    "\n",
    "    # 경로에서 100m 간격 점 추출\n",
    "    total_length = route.length\n",
    "    num_points = int(total_length // 0.001)\n",
    "    for i in range(num_points + 1):\n",
    "        pt = route.interpolate(i / max(1, num_points), normalized=True)\n",
    "        sampled_points.append((pt.y, pt.x))"
   ]
  },
  {
   "cell_type": "code",
   "execution_count": null,
   "id": "f962041b",
   "metadata": {},
   "outputs": [],
   "source": [
    "# 5. 결과 저장\n",
    "\n",
    "reroute_df = pd.DataFrame(records)\n",
    "sampled_df = pd.DataFrame(sampled_points, columns=['lat', 'lon'])\n",
    "\n",
    "reroute_df.to_csv(\"C:\\\\Users\\\\charl\\\\OneDrive\\\\Desktop\\\\기타\\\\coding\\\\coding_on_study\\\\ziririgon\\\\First_project\\\\_5_19\\\\rerouted_paths.csv\", index=False)\n",
    "sampled_df.to_csv(\"C:\\\\Users\\\\charl\\\\OneDrive\\\\Desktop\\\\기타\\\\coding\\\\coding_on_study\\\\ziririgon\\\\First_project\\\\_5_19\\\\route_points_sampled_100m.csv\", index=False)\n",
    "\n"
   ]
  },
  {
   "cell_type": "code",
   "execution_count": null,
   "id": "a4f965f7",
   "metadata": {},
   "outputs": [],
   "source": [
    "# 6. 결과 시각화 1: 경로 선 (파란 선)\n",
    "\n",
    "m1 = folium.Map(location=[33.38, 126.55], zoom_start=11)\n",
    "for route in route_lines:\n",
    "    folium.PolyLine([(pt[1], pt[0]) for pt in route.coords],\n",
    "                    color=\"blue\", weight=2.5, opacity=0.7).add_to(m1)\n",
    "m1.save(\"C:\\\\Users\\\\charl\\\\OneDrive\\\\Desktop\\\\기타\\\\coding\\\\coding_on_study\\\\ziririgon\\\\First_project\\\\_5_19\\\\01_rerouted_paths_all_blue.html\")\n",
    "\n"
   ]
  },
  {
   "cell_type": "code",
   "execution_count": null,
   "id": "15d2d460",
   "metadata": {},
   "outputs": [],
   "source": [
    "# 7. 결과 시각화 2: skaterbox-style 점 밀도 시각화\n",
    "\n",
    "# 포인트 중복 수(count)를 기준으로 진하기 결정\n",
    "# 100m 간격으로 추출된 포인트를 그룹화하여 count 계산\n",
    "\n",
    "heat_counts = sampled_df.groupby(\n",
    "    ['lat', 'lon']).size().reset_index(name='count')\n",
    "\n",
    "# 지도 생성\n",
    "m2 = folium.Map(location=[33.38, 126.55], zoom_start=11)\n",
    "for _, row in heat_counts.iterrows():\n",
    "    norm_opacity = min(\n",
    "        1.0, 0.2 + 0.8 * row['count'] / heat_counts['count'].max())\n",
    "    folium.CircleMarker(\n",
    "        location=[row['lat'], row['lon']],\n",
    "        radius=2,\n",
    "        color='blue',\n",
    "        fill=True,\n",
    "        fill_opacity=norm_opacity,\n",
    "        weight=0\n",
    "    ).add_to(m2)\n",
    "\n",
    "m2.save(\"C:\\\\Users\\\\charl\\\\OneDrive\\\\Desktop\\\\기타\\\\coding\\\\coding_on_study\\\\ziririgon\\\\First_project\\\\_5_19\\\\02_skaterbox_point_heatmap.html\")"
   ]
  },
  {
   "cell_type": "code",
   "execution_count": null,
   "id": "01406274",
   "metadata": {},
   "outputs": [],
   "source": [
    "# '충전기ID' 기준으로 충전소별 충전기 개수 집계하여 시각화 전체 흐름 재수행\n",
    "# 수요는 route_points_sampled_100m.csv, 공급은 '충전소명' 기준 충전기ID 개수"
   ]
  },
  {
   "cell_type": "code",
   "execution_count": null,
   "id": "d92c1b96",
   "metadata": {},
   "outputs": [],
   "source": [
    "# 수요 데이터 로드\n",
    "df_demand = pd.read_csv(\n",
    "    'C:\\\\Users\\\\charl\\\\OneDrive\\\\Desktop\\\\기타\\\\coding\\\\coding_on_study\\\\ziririgon\\\\First_project\\\\_5_19\\\\route_points_sampled_100m.csv')"
   ]
  },
  {
   "cell_type": "code",
   "execution_count": null,
   "id": "1dc9a247",
   "metadata": {},
   "outputs": [],
   "source": [
    "# 공급 데이터 가공: 충전소별 충전기 수량 집계\n",
    "df_chargers = pd.read_csv(\n",
    "    'C:\\\\Users\\\\charl\\\\OneDrive\\\\Desktop\\\\기타\\\\coding\\\\coding_on_study\\\\ziririgon\\\\First_project\\\\db\\\\최종사용 데이터\\\\제주도_충전소_with_coords.csv')\n",
    "df_charger_count = df_chargers.groupby(['충전소명', 'lat', 'lon'])[\n",
    "    '충전기ID'].nunique().reset_index(name='충전기수')\n",
    "# 충전소별 충전기 수량 집계\n",
    "\n",
    "# 충전기 수만큼 공급 좌표 확장\n",
    "supply_points = np.repeat(df_charger_count[['lat', 'lon']].values,\n",
    "                          df_charger_count['충전기수'].astype(int), axis=0)"
   ]
  },
  {
   "cell_type": "code",
   "execution_count": null,
   "id": "264d2a78",
   "metadata": {},
   "outputs": [],
   "source": [
    "# 📌 공통 격자 및 시각화 함수\n",
    "\n",
    "def get_density_map(df, lat_col, lon_col, grid_size=0.005):\n",
    "    lat_min, lat_max = 33.15, 33.55\n",
    "    lon_min, lon_max = 126.15, 126.95\n",
    "    lat_bins = np.arange(lat_min, lat_max + grid_size, grid_size)\n",
    "    lon_bins = np.arange(lon_min, lon_max + grid_size, grid_size)\n",
    "    hist, _, _ = np.histogram2d(\n",
    "        df[lat_col], df[lon_col], bins=[lat_bins, lon_bins])\n",
    "    return hist, lat_bins, lon_bins\n",
    "\n",
    "\n",
    "def get_density_map_array(arr, grid_size=0.005):\n",
    "    lat_min, lat_max = 33.15, 33.55\n",
    "    lon_min, lon_max = 126.15, 126.95\n",
    "    lat_bins = np.arange(lat_min, lat_max + grid_size, grid_size)\n",
    "    lon_bins = np.arange(lon_min, lon_max + grid_size, grid_size)\n",
    "    hist, _, _ = np.histogram2d(\n",
    "        arr[:, 0], arr[:, 1], bins=[lat_bins, lon_bins])\n",
    "    return hist, lat_bins, lon_bins\n",
    "\n",
    "\n",
    "def make_skaterbox_points(matrix, lat_bins, lon_bins):\n",
    "    points = []\n",
    "    for i in range(matrix.shape[0]):\n",
    "        for j in range(matrix.shape[1]):\n",
    "            val = matrix[i, j]\n",
    "            if val > 0:\n",
    "                lat = (lat_bins[i] + lat_bins[i+1]) / 2\n",
    "                lon = (lon_bins[j] + lon_bins[j+1]) / 2\n",
    "                points.append((lat, lon, val))\n",
    "    return points"
   ]
  },
  {
   "cell_type": "code",
   "execution_count": null,
   "id": "a94dc95c",
   "metadata": {},
   "outputs": [],
   "source": [
    "# 격자 생성\n",
    "demand_hist, lat_bins, lon_bins = get_density_map(df_demand, 'lat', 'lon')\n",
    "supply_hist, _, _ = get_density_map_array(supply_points)\n",
    "\n",
    "demand_points = make_skaterbox_points(demand_hist, lat_bins, lon_bins)\n",
    "supply_points = make_skaterbox_points(supply_hist, lat_bins, lon_bins)"
   ]
  },
  {
   "cell_type": "code",
   "execution_count": null,
   "id": "956287f0",
   "metadata": {},
   "outputs": [],
   "source": [
    "# 지도1: 수요\n",
    "m1 = folium.Map(location=[33.38, 126.55], zoom_start=11)\n",
    "for lat, lon, val in demand_points:\n",
    "    op = min(1.0, 0.2 + 0.8 * val / demand_hist.max())\n",
    "    folium.CircleMarker([lat, lon], radius=3, color='blue',\n",
    "                        fill=True, fill_opacity=op, weight=0).add_to(m1)\n",
    "m1_path = \"C:\\\\Users\\\\charl\\\\OneDrive\\\\Desktop\\\\기타\\\\coding\\\\coding_on_study\\\\ziririgon\\\\First_project\\\\_5_19\\\\01_skaterbox_demand_blue.html\"\n",
    "m1.save(m1_path)\n",
    "print(f'{m1_path} saved.')"
   ]
  },
  {
   "cell_type": "code",
   "execution_count": null,
   "id": "d51702e9",
   "metadata": {},
   "outputs": [],
   "source": [
    "# 지도2: 공급\n",
    "m2 = folium.Map(location=[33.38, 126.55], zoom_start=11)\n",
    "for lat, lon, val in supply_points:\n",
    "    op = min(1.0, 0.2 + 0.8 * val / supply_hist.max())\n",
    "    folium.CircleMarker([lat, lon], radius=3, color='red',\n",
    "                        fill=True, fill_opacity=op, weight=0).add_to(m2)\n",
    "m2_path = \"C:\\\\Users\\\\charl\\\\OneDrive\\\\Desktop\\\\기타\\\\coding\\\\coding_on_study\\\\ziririgon\\\\First_project\\\\_5_19\\\\02_skaterbox_supply_red.html\"\n",
    "m2.save(m2_path)\n",
    "print(f'{m2_path} saved.')"
   ]
  },
  {
   "cell_type": "code",
   "execution_count": null,
   "id": "3c119d30",
   "metadata": {},
   "outputs": [],
   "source": [
    "# 지도3: 겹쳐서 시각화\n",
    "m3 = folium.Map(location=[33.38, 126.55], zoom_start=11)\n",
    "for lat, lon, val in demand_points:\n",
    "    op = min(1.0, 0.2 + 0.8 * val / demand_hist.max())\n",
    "    folium.CircleMarker([lat, lon], radius=3, color='blue',\n",
    "                        fill=True, fill_opacity=op, weight=0).add_to(m3)\n",
    "for lat, lon, val in supply_points:\n",
    "    op = min(1.0, 0.2 + 0.8 * val / supply_hist.max())\n",
    "    folium.CircleMarker([lat, lon], radius=3, color='red',\n",
    "                        fill=True, fill_opacity=op, weight=0).add_to(m3)\n",
    "m3_path = \"C:\\\\Users\\\\charl\\\\OneDrive\\\\Desktop\\\\기타\\\\coding\\\\coding_on_study\\\\ziririgon\\\\First_project\\\\_5_19\\\\03_skaterbox_overlay_demand_supply.html\"\n",
    "m3.save(m3_path)\n",
    "print(f'{m3_path} saved.')"
   ]
  },
  {
   "cell_type": "code",
   "execution_count": null,
   "id": "c4818bc3",
   "metadata": {},
   "outputs": [
    {
     "data": {
      "text/plain": [
       "('C:\\\\Users\\\\charl\\\\OneDrive\\\\Desktop\\\\기타\\\\coding\\\\coding_on_study\\\\ziririgon\\\\First_project\\\\_5_19\\\\01_skaterbox_demand_blue.html',\n",
       " 'C:\\\\Users\\\\charl\\\\OneDrive\\\\Desktop\\\\기타\\\\coding\\\\coding_on_study\\\\ziririgon\\\\First_project\\\\_5_19\\\\02_skaterbox_supply_red.html',\n",
       " 'C:\\\\Users\\\\charl\\\\OneDrive\\\\Desktop\\\\기타\\\\coding\\\\coding_on_study\\\\ziririgon\\\\First_project\\\\_5_19\\\\03_skaterbox_overlay_demand_supply.html',\n",
       " 'C:\\\\Users\\\\charl\\\\OneDrive\\\\Desktop\\\\기타\\\\coding\\\\coding_on_study\\\\ziririgon\\\\First_project\\\\_5_19\\\\04_skaterbox_gap_heatmap.html')"
      ]
     },
     "execution_count": 11,
     "metadata": {},
     "output_type": "execute_result"
    }
   ],
   "source": [
    "# # 지도4: Gap (공급 - 수요)\n",
    "# gap_hist = supply_hist - demand_hist\n",
    "# gap_points = make_skaterbox_points(gap_hist, lat_bins, lon_bins)\n",
    "\n",
    "# m4 = folium.Map(location=[33.38, 126.55], zoom_start=11)\n",
    "# colormap = cm.LinearColormap(colors=['red', 'white', 'blue'],\n",
    "#                              vmin=-np.max(np.abs(gap_hist)),\n",
    "#                              vmax=np.max(np.abs(gap_hist)),\n",
    "#                              caption=\"공급 - 수요 Gap\")\n",
    "# colormap.add_to(m4)\n",
    "\n",
    "# for lat, lon, val in gap_points:\n",
    "#     folium.CircleMarker(\n",
    "#         location=[lat, lon],\n",
    "#         radius=4,\n",
    "#         color=colormap(val),\n",
    "#         fill=True,\n",
    "#         fill_color=colormap(val),\n",
    "#         fill_opacity=0.8,\n",
    "#         popup=f\"Gap: {val:.0f}\"\n",
    "#     ).add_to(m4)\n",
    "# m4_path = \"C:\\\\Users\\\\charl\\\\OneDrive\\\\Desktop\\\\기타\\\\coding\\\\coding_on_study\\\\ziririgon\\\\First_project\\\\_5_19\\\\04_skaterbox_gap_heatmap.html\"\n",
    "# m4.save(m4_path)\n",
    "\n",
    "# m1_path, m2_path, m3_path, m4_path"
   ]
  },
  {
   "cell_type": "code",
   "execution_count": null,
   "id": "d90eb8f7",
   "metadata": {},
   "outputs": [
    {
     "name": "stdout",
     "output_type": "stream",
     "text": [
      "✅ 저장 완료: C:/Users/charl/OneDrive/Desktop/기타/coding/coding_on_study/ziririgon/First_project/_5_19/04_skaterbox_gap_heatmap_better_fixed.html\n"
     ]
    }
   ],
   "source": [
    "# Gap 시각화를 시각적으로 더 명확하게 만들기 위해 vmin/vmax 조정 또는 로그 스케일 적용\n",
    "# 절댓값이 너무 작아 모두 흰색이 된 것에 대응하여 색상 범위 명확히 조정\n",
    "\n",
    "# # 충전기 수 5배 부풀리기\n",
    "# df_charger_count['충전기수'] *= 5  # ✅ 공급 강조\n",
    "\n",
    "# 공급 좌표 생성\n",
    "supply_points = np.repeat(\n",
    "    df_charger_count[['lat', 'lon']].values,\n",
    "    df_charger_count['충전기수'].astype(int),\n",
    "    axis=0\n",
    ")\n",
    "\n",
    "# 1. GAP 계산 (공급 - 수요)\n",
    "gap_hist = supply_hist - demand_hist\n",
    "\n",
    "# 2. 모든 격자 좌표 + GAP 값 추출\n",
    "\n",
    "\n",
    "def make_skaterbox_points_all(matrix, lat_bins, lon_bins):\n",
    "    points = []\n",
    "    for i in range(matrix.shape[0]):\n",
    "        for j in range(matrix.shape[1]):\n",
    "            lat = (lat_bins[i] + lat_bins[i+1]) / 2\n",
    "            lon = (lon_bins[j] + lon_bins[j+1]) / 2\n",
    "            val = matrix[i, j]\n",
    "            points.append((lat, lon, val))\n",
    "    return points\n",
    "\n",
    "\n",
    "gap_points = make_skaterbox_points_all(gap_hist, lat_bins, lon_bins)\n",
    "\n",
    "# 3. 색상 기준 설정 (최소 대비 확보)\n",
    "gap_max = np.max(np.abs(gap_hist))\n",
    "vmax = max(gap_max, 10)\n",
    "vmin = -vmax\n",
    "\n",
    "# 4. 지도 생성 및 범례 추가\n",
    "m_gap_colored = folium.Map(location=[33.38, 126.55], zoom_start=11)\n",
    "colormap = cm.LinearColormap(['blue', 'white', 'red'],  # 🟦 수요 > 공급, ⚪ 같음, 🔴 공급 > 수요\n",
    "                             vmin=vmin, vmax=vmax,\n",
    "                             caption=\"수요 - 공급 Gap (파랑 = 수요 많음)\")\n",
    "colormap.add_to(m_gap_colored)\n",
    "\n",
    "# 4. 점마다 수동 색상 지정\n",
    "for lat, lon, val in gap_points:\n",
    "    \n",
    "    if val == 0:\n",
    "        continue  # ✅ 아예 생략하거나 아래처럼 아주 연하게\n",
    "        color = \"white\"\n",
    "        opacity = 0.01  # 🎯 흰색은 아주 연하게\n",
    "        \n",
    "    elif val > 0:\n",
    "        # 공급이 많다 → 빨강\n",
    "        intensity = min(1.0, abs(val) / vmax)\n",
    "        color = f\"rgba(255, 0, 0, {intensity})\"\n",
    "        opacity = intensity\n",
    "        \n",
    "    else:\n",
    "        # 수요가 많다 → 파랑\n",
    "        intensity = min(1.0, abs(val) / vmax)\n",
    "        color = f\"rgba(0, 0, 255, {intensity})\"\n",
    "        opacity = intensity\n",
    "\n",
    "    folium.CircleMarker(\n",
    "        location=[lat, lon],\n",
    "        radius=4,\n",
    "        color=color,\n",
    "        fill=True,\n",
    "        fill_color=color,\n",
    "        fill_opacity=opacity,\n",
    "        popup=f\"Gap (수요-공급): {adjusted_gap:.0f}\"\n",
    "    ).add_to(m_gap_colored)\n",
    "\n",
    "# 5. 저장\n",
    "output_path = \"C:/Users/charl/OneDrive/Desktop/기타/coding/coding_on_study/ziririgon/First_project/_5_19/04_skaterbox_gap_heatmap_better_fixed.html\"\n",
    "m_gap_colored.save(output_path)\n",
    "print(f\"✅ 저장 완료: {output_path}\")"
   ]
  },
  {
   "cell_type": "markdown",
   "id": "4fdfeca7",
   "metadata": {},
   "source": [
    "gap = 공급 히트맵 - 수요 히트맵\n",
    "gap[i, j] = supply_hist[i, j] - demand_hist[i, j]\n",
    "supply_hist: 해당 셀 내 충전소 개수 합 (충전기 수 기준으로 누적)\n",
    "demand_hist: 해당 셀 내 수요 포인트 개수 합 (100m 간격으로 추출된 경로 포인트 수)\n",
    "\n"
   ]
  }
 ],
 "metadata": {
  "kernelspec": {
   "display_name": "python_13",
   "language": "python",
   "name": "python3"
  },
  "language_info": {
   "codemirror_mode": {
    "name": "ipython",
    "version": 3
   },
   "file_extension": ".py",
   "mimetype": "text/x-python",
   "name": "python",
   "nbconvert_exporter": "python",
   "pygments_lexer": "ipython3",
   "version": "3.13.2"
  }
 },
 "nbformat": 4,
 "nbformat_minor": 5
}
