{
 "cells": [
  {
   "cell_type": "code",
   "execution_count": 2,
   "id": "de06b3f8-d4cd-4569-bb65-ba0463ebe73c",
   "metadata": {},
   "outputs": [],
   "source": [
    "import pandas as pd\n",
    "import requests\n",
    "from concurrent.futures import ThreadPoolExecutor, as_completed\n",
    "from tqdm import tqdm"
   ]
  },
  {
   "cell_type": "code",
   "execution_count": 5,
   "id": "9b33da68-9071-4e22-9d19-61b42c68a66c",
   "metadata": {},
   "outputs": [
    {
     "name": "stdout",
     "output_type": "stream",
     "text": [
      "       출발행정코드      출발도   출발시  출발동             출발 주소      도착행정코드      도착도  \\\n",
      "0  5013059000  제주특별자치도  서귀포시  대륜동  제주특별자치도 서귀포시 대륜동  5013054000  제주특별자치도   \n",
      "1  5013054000  제주특별자치도  서귀포시  천지동  제주특별자치도 서귀포시 천지동  5013057000  제주특별자치도   \n",
      "2  5013057000  제주특별자치도  서귀포시  동홍동  제주특별자치도 서귀포시 동홍동  5013054000  제주특별자치도   \n",
      "3  5013054000  제주특별자치도  서귀포시  천지동  제주특별자치도 서귀포시 천지동  5013059000  제주특별자치도   \n",
      "4  5011062000  제주특별자치도   제주시  봉개동   제주특별자치도 제주시 봉개동  5011059000  제주특별자치도   \n",
      "\n",
      "    도착시  도착동             도착 주소  \n",
      "0  서귀포시  천지동  제주특별자치도 서귀포시 천지동  \n",
      "1  서귀포시  동홍동  제주특별자치도 서귀포시 동홍동  \n",
      "2  서귀포시  천지동  제주특별자치도 서귀포시 천지동  \n",
      "3  서귀포시  대륜동  제주특별자치도 서귀포시 대륜동  \n",
      "4   제주시  건입동   제주특별자치도 제주시 건입동  \n"
     ]
    }
   ],
   "source": [
    "# 1. CSV 파일 불러오기\n",
    "df = pd.read_csv(\"../jeju_final_2.csv\", encoding=\"utf-8-sig\")\n",
    "\n",
    "print(df.head())"
   ]
  },
  {
   "cell_type": "code",
   "execution_count": 11,
   "id": "23dbfeea-d643-439a-b022-b48979ad819b",
   "metadata": {},
   "outputs": [],
   "source": [
    "# 2. Kakao REST API 키\n",
    "api_key = \"551e808d7c904940ef5197c202e1725c\"  # 예: \"69e904e85329cddd6795bf2cfe6c576a\""
   ]
  },
  {
   "cell_type": "code",
   "execution_count": 10,
   "id": "3027aa8d-0f84-41cf-96b1-53d13736fc07",
   "metadata": {},
   "outputs": [],
   "source": [
    "# 3. 주소 → 위도/경도 요청 함수\n",
    "def get_lat_lng(address, api_key):\n",
    "    try:\n",
    "        url = \"https://dapi.kakao.com/v2/local/search/address.json\"\n",
    "        headers = {\"Authorization\": f\"KakaoAK {api_key}\"}\n",
    "        params = {\"query\": address}\n",
    "        response = requests.get(url, headers=headers, params=params)\n",
    "\n",
    "        if response.status_code == 200:\n",
    "            result = response.json()\n",
    "            if result['documents']:\n",
    "                location = result['documents'][0]['address']\n",
    "                return location['y'], location['x']  # 위도(y), 경도(x)\n",
    "        return None, None\n",
    "    except:\n",
    "        return None, None"
   ]
  },
  {
   "cell_type": "code",
   "execution_count": 17,
   "id": "09e3f4cf-44a9-4410-bf32-8356c44c7b6d",
   "metadata": {},
   "outputs": [
    {
     "name": "stderr",
     "output_type": "stream",
     "text": [
      "100%|█████████████████████████████████████████████████████████████████████████████| 4992/4992 [00:33<00:00, 147.14it/s]\n"
     ]
    }
   ],
   "source": [
    "# 4. 전체 주소 중, 30,000번째 이후만 추출\n",
    "addresses1 = df[\"출발 주소\"].tolist()  # 인덱스 \n",
    "\n",
    "# 5. 병렬 처리\n",
    "lat_list, lng_list = [], []\n",
    "\n",
    "with ThreadPoolExecutor(max_workers=10) as executor:\n",
    "    futures = {executor.submit(get_lat_lng, addr, api_key): addr for addr in addresses1}\n",
    "\n",
    "    for future in tqdm(as_completed(futures), total=len(futures)):\n",
    "        lat, lng = future.result()\n",
    "        lat_list.append(lat)\n",
    "        lng_list.append(lng)"
   ]
  },
  {
   "cell_type": "code",
   "execution_count": 18,
   "id": "d64a1d4b-388d-45b2-80a8-3752061a4dfb",
   "metadata": {},
   "outputs": [
    {
     "name": "stdout",
     "output_type": "stream",
     "text": [
      "✔️ 저장 완료: 당신의 파일_좌표추가_전체.csv\n"
     ]
    }
   ],
   "source": [
    "# 6. 부분 결과 DataFrame 생성\n",
    "df[\"위도\"] = lat_list\n",
    "df[\"경도\"] = lng_list\n",
    "\n",
    "# 7. 저장\n",
    "df.to_csv(\"제주도_출발_주소_좌표.csv\", index=False, encoding=\"utf-8-sig\")\n",
    "print(\"✔️ 저장 완료: 당신의 파일_좌표추가_전체.csv\")"
   ]
  },
  {
   "cell_type": "code",
   "execution_count": 15,
   "id": "c7ea191b-d3d8-4440-878e-7b6b5ac733f6",
   "metadata": {},
   "outputs": [
    {
     "name": "stderr",
     "output_type": "stream",
     "text": [
      "100%|█████████████████████████████████████████████████████████████████████████████| 4992/4992 [00:33<00:00, 148.48it/s]\n"
     ]
    }
   ],
   "source": [
    "# 4. 전체 주소 중, 30,000번째 이후만 추출\n",
    "addresses2 = df[\"도착 주소\"].tolist()  # 인덱스 \n",
    "\n",
    "# 5. 병렬 처리\n",
    "lat_list, lng_list = [], []\n",
    "\n",
    "with ThreadPoolExecutor(max_workers=10) as executor:\n",
    "    futures = {executor.submit(get_lat_lng, addr, api_key): addr for addr in addresses2}\n",
    "\n",
    "    for future in tqdm(as_completed(futures), total=len(futures)):\n",
    "        lat, lng = future.result()\n",
    "        lat_list.append(lat)\n",
    "        lng_list.append(lng)"
   ]
  },
  {
   "cell_type": "code",
   "execution_count": null,
   "id": "458d38f5-7772-4b4e-82b0-09da8e3ab91c",
   "metadata": {},
   "outputs": [],
   "source": [
    "# 6. 부분 결과 DataFrame 생성\n",
    "df[\"위도\"] = lat_list\n",
    "df[\"경도\"] = lng_list\n",
    "\n",
    "# 7. 저장\n",
    "df.to_csv(\"제주도_도착_주소_좌표.csv\", index=False, encoding=\"utf-8-sig\")\n",
    "print(\"✔️ 저장 완료: 당신의 파일_좌표추가_전체.csv\")"
   ]
  },
  {
   "cell_type": "code",
   "execution_count": null,
   "id": "5563ddc5-5c27-4896-9562-8aedb297e1ad",
   "metadata": {},
   "outputs": [],
   "source": [
    "## csv 병합\n",
    "# 1. 두 CSV 파일 불러오기\n",
    "df1 = pd.read_csv(\"제주도_출발_주소_좌표.csv\", encoding=\"utf-8-sig\")\n",
    "df2 = pd.read_csv(\"제주도_도착_주소_좌표.csv\", encoding=\"utf-8-sig\")\n",
    "\n",
    "# 2. 병합\n",
    "df_merged = pd.concat([df1, df2], ignore_index=True)\n",
    "df_merged = df_merged.drop_duplicates()\n",
    "\n",
    "# 3. 저장\n",
    "df_merged.to_csv(\"제주도_전체_주소_좌표.csv\", index=False, encoding=\"utf-8-sig\")\n",
    "print(\"✔️ 최종 저장 완료: 서울_충전소_좌표추가_전체.csv\")"
   ]
  }
 ],
 "metadata": {
  "kernelspec": {
   "display_name": "Python 3 (ipykernel)",
   "language": "python",
   "name": "python3"
  },
  "language_info": {
   "codemirror_mode": {
    "name": "ipython",
    "version": 3
   },
   "file_extension": ".py",
   "mimetype": "text/x-python",
   "name": "python",
   "nbconvert_exporter": "python",
   "pygments_lexer": "ipython3",
   "version": "3.12.7"
  }
 },
 "nbformat": 4,
 "nbformat_minor": 5
}
