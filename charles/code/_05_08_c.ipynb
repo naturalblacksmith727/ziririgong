{
 "cells": [
  {
   "cell_type": "code",
   "execution_count": 9,
   "id": "90692bad-437f-423b-a562-267135f03c05",
   "metadata": {},
   "outputs": [
    {
     "name": "stdout",
     "output_type": "stream",
     "text": [
      "Requirement already satisfied: geopy in c:\\anaconda\\conda3\\lib\\site-packages (2.4.1)\n",
      "Requirement already satisfied: geographiclib<3,>=1.52 in c:\\anaconda\\conda3\\lib\\site-packages (from geopy) (2.0)\n"
     ]
    }
   ],
   "source": [
    "!pip install geopy"
   ]
  },
  {
   "cell_type": "code",
   "execution_count": 10,
   "id": "d15dd901-98a1-4af3-a331-7e3730f6be98",
   "metadata": {},
   "outputs": [],
   "source": [
    "import pandas as pd\n",
    "from geopy.geocoders import Nominatim\n",
    "from geopy.extra.rate_limiter import RateLimiter\n",
    "import time"
   ]
  },
  {
   "cell_type": "code",
   "execution_count": 15,
   "id": "3e1d70e1-5b74-45c9-a1cf-22a2be3ae2c8",
   "metadata": {},
   "outputs": [],
   "source": [
    "df = pd.read_csv(\"../jeju_final_2.csv\")\n",
    "\n",
    "# 1. Geocoder setup\n",
    "geolocator = Nominatim(user_agent=\"jeju_geocoder\")  # change app name if needed\n",
    "geocode = RateLimiter(geolocator.geocode, min_delay_seconds=1)\n",
    "\n",
    "# 2. Caching dictionary\n",
    "geo_cache = {}\n"
   ]
  },
  {
   "cell_type": "code",
   "execution_count": null,
   "id": "89f7df67-c022-4cef-9cdc-5051e7a164b2",
   "metadata": {},
   "outputs": [],
   "source": [
    "# 3. Function to get lat/lon with caching\n",
    "def get_lat_lon_cached(address):\n",
    "    if pd.isna(address):\n",
    "        return pd.Series([None, None])\n",
    "    \n",
    "    if address in geo_cache:\n",
    "        return geo_cache[address]\n",
    "    \n",
    "    try:\n",
    "        location = geocode(address)\n",
    "        if location:\n",
    "            result = pd.Series([location.latitude, location.longitude])\n",
    "        else:\n",
    "            result = pd.Series([None, None])\n",
    "    except Exception as e:\n",
    "        print(f\"Error for {address}: {e}\")\n",
    "        result = pd.Series([None, None])\n",
    "    \n",
    "    geo_cache[address] = result\n",
    "    return result\n"
   ]
  },
  {
   "cell_type": "code",
   "execution_count": null,
   "id": "ce000ed3-4a56-4bc8-b69c-66bbcdce22a8",
   "metadata": {},
   "outputs": [],
   "source": [
    "def get_lat_lon(address):\n",
    "    try:\n",
    "        location = geocode(address)\n",
    "        if location:\n",
    "            return pd.Series([location.latitude, location.longitude])\n",
    "    except:\n",
    "        return pd.Series([None, None])\n",
    "    return pd.Series([None, None])"
   ]
  },
  {
   "cell_type": "code",
   "execution_count": null,
   "id": "257f83eb-dda3-4bf4-bfa3-7bc6aacdffd4",
   "metadata": {},
   "outputs": [],
   "source": [
    "# 출발/도착 위경도\n",
    "df[['출발_lat', '출발_lon']] = df['출발 주소'].apply(get_lat_lon)\n",
    "df[['도착_lat', '도착_lon']] = df['도착 주소'].apply(get_lat_lon)\n",
    "\n",
    "# 중심 좌표\n",
    "df['중심_lat'] = (df['출발_lat'] + df['도착_lat']) / 2\n",
    "df['중심_lon'] = (df['출발_lon'] + df['도착_lon']) / 2\n",
    "\n",
    "\n",
    "# 6. View result\n",
    "print(df)"
   ]
  },
  {
   "cell_type": "code",
   "execution_count": 3,
   "id": "314eff62-2345-450a-b748-35d216df1835",
   "metadata": {},
   "outputs": [],
   "source": [
    "# 1. Geocoder setup\n",
    "geolocator = Nominatim(user_agent=\"example\")  # change app name if needed\n",
    "geocode = RateLimiter(geolocator.geocode, min_delay_seconds=1)\n"
   ]
  },
  {
   "cell_type": "code",
   "execution_count": 4,
   "id": "2b4379a4-8ff2-450e-b1ea-85be1bccd821",
   "metadata": {},
   "outputs": [],
   "source": [
    "# 2. Caching dictionary\n",
    "geo_cache = {}\n"
   ]
  },
  {
   "cell_type": "code",
   "execution_count": 5,
   "id": "857ee0f3-8569-4cc3-8ea2-0e24f5864e98",
   "metadata": {},
   "outputs": [],
   "source": [
    "\n",
    "# 3. Function to get lat/lon with caching\n",
    "def get_lat_lon_cached(address):\n",
    "    if pd.isna(address):\n",
    "        return pd.Series([None, None])\n",
    "    \n",
    "    if address in geo_cache:\n",
    "        return geo_cache[address]\n",
    "    \n",
    "    try:\n",
    "        location = geocode(address)\n",
    "        if location:\n",
    "            result = pd.Series([location.latitude, location.longitude])\n",
    "        else:\n",
    "            result = pd.Series([None, None])\n",
    "    except Exception as e:\n",
    "        print(f\"Error for {address}: {e}\")\n",
    "        result = pd.Series([None, None])\n",
    "    \n",
    "    geo_cache[address] = result\n",
    "    return result"
   ]
  },
  {
   "cell_type": "code",
   "execution_count": 9,
   "id": "2f18d481-8dd1-415f-b134-9ed245fa1d76",
   "metadata": {},
   "outputs": [],
   "source": [
    "df = pd.read_csv(\"../jeju_final_2.csv\")\n"
   ]
  },
  {
   "cell_type": "code",
   "execution_count": 14,
   "id": "f027121f-355b-4ef8-bc71-da652c3ad4fd",
   "metadata": {},
   "outputs": [
    {
     "name": "stdout",
     "output_type": "stream",
     "text": [
      "          출발행정코드      출발도   출발시  출발동             출발 주소      도착행정코드      도착도  \\\n",
      "0     5013059000  제주특별자치도  서귀포시  대륜동  제주특별자치도 서귀포시 대륜동  5013054000  제주특별자치도   \n",
      "1     5013054000  제주특별자치도  서귀포시  천지동  제주특별자치도 서귀포시 천지동  5013057000  제주특별자치도   \n",
      "2     5013057000  제주특별자치도  서귀포시  동홍동  제주특별자치도 서귀포시 동홍동  5013054000  제주특별자치도   \n",
      "3     5013054000  제주특별자치도  서귀포시  천지동  제주특별자치도 서귀포시 천지동  5013059000  제주특별자치도   \n",
      "4     5011062000  제주특별자치도   제주시  봉개동   제주특별자치도 제주시 봉개동  5011059000  제주특별자치도   \n",
      "...          ...      ...   ...  ...               ...         ...      ...   \n",
      "4987  5011067000  제주특별자치도   제주시  외도동   제주특별자치도 제주시 외도동  5011069000  제주특별자치도   \n",
      "4988  5013055000  제주특별자치도  서귀포시  효돈동  제주특별자치도 서귀포시 효돈동  5013025300  제주특별자치도   \n",
      "4989  5013025300  제주특별자치도  서귀포시  남원읍  제주특별자치도 서귀포시 남원읍  5013055000  제주특별자치도   \n",
      "4990  5011066000  제주특별자치도   제주시  노형동   제주특별자치도 제주시 노형동  5011069000  제주특별자치도   \n",
      "4991  5011069000  제주특별자치도   제주시  도두동   제주특별자치도 제주시 도두동  5011066000  제주특별자치도   \n",
      "\n",
      "       도착시  도착동             도착 주소        lat         lon  \n",
      "0     서귀포시  천지동  제주특별자치도 서귀포시 천지동  33.238197  126.552760  \n",
      "1     서귀포시  동홍동  제주특별자치도 서귀포시 동홍동  33.261840  126.568040  \n",
      "2     서귀포시  천지동  제주특별자치도 서귀포시 천지동  33.238197  126.552760  \n",
      "3     서귀포시  대륜동  제주특별자치도 서귀포시 대륜동  33.281949  126.521936  \n",
      "4      제주시  건입동   제주특별자치도 제주시 건입동  33.514740  126.539350  \n",
      "...    ...  ...               ...        ...         ...  \n",
      "4987   제주시  도두동   제주특별자치도 제주시 도두동  33.510034  126.473526  \n",
      "4988  서귀포시  남원읍  제주특별자치도 서귀포시 남원읍  33.307668  126.690748  \n",
      "4989  서귀포시  효돈동  제주특별자치도 서귀포시 효돈동  33.253131  126.616336  \n",
      "4990   제주시  도두동   제주특별자치도 제주시 도두동  33.510034  126.473526  \n",
      "4991   제주시  노형동   제주특별자치도 제주시 노형동  33.478125  126.475487  \n",
      "\n",
      "[4992 rows x 12 columns]\n"
     ]
    }
   ],
   "source": [
    "# 5. Apply geocoding\n",
    "df[['출발_lat', '출발_lon']] = df['출발 주소'].apply(get_lat_lon_cached)\n",
    "df[['도착_lat', '도착_lon']] = df['도착 주소'].apply(get_lat_lon_cached)\n",
    "\n",
    "# 6. View result\n",
    "print(df)"
   ]
  },
  {
   "cell_type": "code",
   "execution_count": null,
   "id": "bb55ce3c-422a-472c-a09f-a10c4b4c7a53",
   "metadata": {},
   "outputs": [],
   "source": []
  }
 ],
 "metadata": {
  "kernelspec": {
   "display_name": "Python 3 (ipykernel)",
   "language": "python",
   "name": "python3"
  },
  "language_info": {
   "codemirror_mode": {
    "name": "ipython",
    "version": 3
   },
   "file_extension": ".py",
   "mimetype": "text/x-python",
   "name": "python",
   "nbconvert_exporter": "python",
   "pygments_lexer": "ipython3",
   "version": "3.12.7"
  }
 },
 "nbformat": 4,
 "nbformat_minor": 5
}
