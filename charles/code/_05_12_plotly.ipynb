{
 "cells": [
  {
   "cell_type": "code",
   "execution_count": null,
   "id": "c7b18e37",
   "metadata": {
    "vscode": {
     "languageId": "plaintext"
    }
   },
   "outputs": [],
   "source": [
    "# 라이브러리 임포트\n",
    "import pandas as pd\n",
    "import plotly.express as px\n",
    "import plotly.io as pio"
   ]
  },
  {
   "cell_type": "code",
   "execution_count": null,
   "id": "058ca01e",
   "metadata": {
    "vscode": {
     "languageId": "plaintext"
    }
   },
   "outputs": [],
   "source": [
    "# 데이터 불러오기\n",
    "df = pd.read_csv(\"행정동별_충전소_충전기_집계_중심좌표포함.csv\", encoding=\"utf-8-sig\")\n",
    "\n",
    "pio.renderers.default = 'browser'  # 또는 'browser' / 'iframe' 등 환경에 맞게\n",
    "\n",
    "# 아래 YOUR_TOKEN_HERE 자리에 mapbox에서 받은 토큰을 입력\n",
    "px.set_mapbox_access_token(\"pk.eyJ1IjoicGFtbzIzIiwiYSI6ImNtYWZocTBobzAyZWYya3F4cHRleWo3YjQifQ.gLWenuFkW406_b2vxSrFWw\")\n",
    "\n",
    "fig = px.scatter_mapbox(\n",
    "    df,\n",
    "    lat=\"위도\",\n",
    "    lon=\"경도\",\n",
    "    size=\"충전기수\",        # 점의 크기\n",
    "    color=\"지역\",           # 색상 분류\n",
    "    hover_name=\"행정동명\",  # 툴팁에 뜨는 이름\n",
    "    hover_data=[\"충전소수\", \"충전기수\"],\n",
    "    size_max=25,\n",
    "    zoom=7,\n",
    "    title=\"행정동 중심 기반 전기차 충전기 밀도\"\n",
    ")\n",
    "\n",
    "fig.update_layout(mapbox_style=\"carto-positron\")  # 또는 \"open-street-map\", \"dark\", \"light\"\n",
    "fig.show()"
   ]
  },
  {
   "cell_type": "code",
   "execution_count": null,
   "id": "760558bc",
   "metadata": {
    "vscode": {
     "languageId": "plaintext"
    }
   },
   "outputs": [],
   "source": []
  },
  {
   "cell_type": "code",
   "execution_count": null,
   "id": "456e73e3",
   "metadata": {
    "vscode": {
     "languageId": "plaintext"
    }
   },
   "outputs": [],
   "source": []
  }
 ],
 "metadata": {
  "language_info": {
   "name": "python"
  }
 },
 "nbformat": 4,
 "nbformat_minor": 5
}
